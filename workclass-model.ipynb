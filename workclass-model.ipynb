{
 "cells": [
  {
   "cell_type": "markdown",
   "metadata": {},
   "source": [
    "# Lab 8: Define and Solve an ML Problem of Your Choosing"
   ]
  },
  {
   "cell_type": "code",
   "execution_count": 1,
   "metadata": {},
   "outputs": [],
   "source": [
    "import pandas as pd\n",
    "import numpy as np\n",
    "import os \n",
    "import matplotlib.pyplot as plt\n",
    "import seaborn as sns"
   ]
  },
  {
   "cell_type": "markdown",
   "metadata": {},
   "source": [
    "In this lab assignment, you will follow the machine learning life cycle and implement a model to solve a machine learning problem of your choosing. You will select a data set and choose a predictive problem that the data set supports.  You will then inspect the data with your problem in mind and begin to formulate a  project plan. You will then implement the machine learning project plan. \n",
    "\n",
    "You will complete the following tasks:\n",
    "\n",
    "1. Build Your DataFrame\n",
    "2. Define Your ML Problem\n",
    "3. Perform exploratory data analysis to understand your data.\n",
    "4. Define Your Project Plan\n",
    "5. Implement Your Project Plan:\n",
    "    * Prepare your data for your model.\n",
    "    * Fit your model to the training data and evaluate your model.\n",
    "    * Improve your model's performance."
   ]
  },
  {
   "cell_type": "markdown",
   "metadata": {},
   "source": [
    "## Part 1: Build Your DataFrame\n",
    "\n",
    "You will have the option to choose one of four data sets that you have worked with in this program:\n",
    "\n",
    "* The \"census\" data set that contains Census information from 1994: `censusData.csv`\n",
    "* Airbnb NYC \"listings\" data set: `airbnbListingsData.csv`\n",
    "* World Happiness Report (WHR) data set: `WHR2018Chapter2OnlineData.csv`\n",
    "* Book Review data set: `bookReviewsData.csv`\n",
    "\n",
    "Note that these are variations of the data sets that you have worked with in this program. For example, some do not include some of the preprocessing necessary for specific models. \n",
    "\n",
    "#### Load a Data Set and Save it as a Pandas DataFrame\n",
    "\n",
    "The code cell below contains filenames (path + filename) for each of the four data sets available to you.\n",
    "\n",
    "<b>Task:</b> In the code cell below, use the same method you have been using to load the data using `pd.read_csv()` and save it to DataFrame `df`. \n",
    "\n",
    "You can load each file as a new DataFrame to inspect the data before choosing your data set."
   ]
  },
  {
   "cell_type": "code",
   "execution_count": 2,
   "metadata": {},
   "outputs": [
    {
     "data": {
      "text/html": [
       "<div>\n",
       "<style scoped>\n",
       "    .dataframe tbody tr th:only-of-type {\n",
       "        vertical-align: middle;\n",
       "    }\n",
       "\n",
       "    .dataframe tbody tr th {\n",
       "        vertical-align: top;\n",
       "    }\n",
       "\n",
       "    .dataframe thead th {\n",
       "        text-align: right;\n",
       "    }\n",
       "</style>\n",
       "<table border=\"1\" class=\"dataframe\">\n",
       "  <thead>\n",
       "    <tr style=\"text-align: right;\">\n",
       "      <th></th>\n",
       "      <th>age</th>\n",
       "      <th>workclass</th>\n",
       "      <th>fnlwgt</th>\n",
       "      <th>education</th>\n",
       "      <th>education-num</th>\n",
       "      <th>marital-status</th>\n",
       "      <th>occupation</th>\n",
       "      <th>relationship</th>\n",
       "      <th>race</th>\n",
       "      <th>sex_selfID</th>\n",
       "      <th>capital-gain</th>\n",
       "      <th>capital-loss</th>\n",
       "      <th>hours-per-week</th>\n",
       "      <th>native-country</th>\n",
       "      <th>income_binary</th>\n",
       "    </tr>\n",
       "  </thead>\n",
       "  <tbody>\n",
       "    <tr>\n",
       "      <th>0</th>\n",
       "      <td>39.0</td>\n",
       "      <td>State-gov</td>\n",
       "      <td>77516</td>\n",
       "      <td>Bachelors</td>\n",
       "      <td>13</td>\n",
       "      <td>Never-married</td>\n",
       "      <td>Adm-clerical</td>\n",
       "      <td>Not-in-family</td>\n",
       "      <td>White</td>\n",
       "      <td>Non-Female</td>\n",
       "      <td>2174</td>\n",
       "      <td>0</td>\n",
       "      <td>40.0</td>\n",
       "      <td>United-States</td>\n",
       "      <td>&lt;=50K</td>\n",
       "    </tr>\n",
       "    <tr>\n",
       "      <th>1</th>\n",
       "      <td>50.0</td>\n",
       "      <td>Self-emp-not-inc</td>\n",
       "      <td>83311</td>\n",
       "      <td>Bachelors</td>\n",
       "      <td>13</td>\n",
       "      <td>Married-civ-spouse</td>\n",
       "      <td>Exec-managerial</td>\n",
       "      <td>Husband</td>\n",
       "      <td>White</td>\n",
       "      <td>Non-Female</td>\n",
       "      <td>0</td>\n",
       "      <td>0</td>\n",
       "      <td>13.0</td>\n",
       "      <td>United-States</td>\n",
       "      <td>&lt;=50K</td>\n",
       "    </tr>\n",
       "    <tr>\n",
       "      <th>2</th>\n",
       "      <td>38.0</td>\n",
       "      <td>Private</td>\n",
       "      <td>215646</td>\n",
       "      <td>HS-grad</td>\n",
       "      <td>9</td>\n",
       "      <td>Divorced</td>\n",
       "      <td>Handlers-cleaners</td>\n",
       "      <td>Not-in-family</td>\n",
       "      <td>White</td>\n",
       "      <td>Non-Female</td>\n",
       "      <td>0</td>\n",
       "      <td>0</td>\n",
       "      <td>40.0</td>\n",
       "      <td>United-States</td>\n",
       "      <td>&lt;=50K</td>\n",
       "    </tr>\n",
       "    <tr>\n",
       "      <th>3</th>\n",
       "      <td>53.0</td>\n",
       "      <td>Private</td>\n",
       "      <td>234721</td>\n",
       "      <td>11th</td>\n",
       "      <td>7</td>\n",
       "      <td>Married-civ-spouse</td>\n",
       "      <td>Handlers-cleaners</td>\n",
       "      <td>Husband</td>\n",
       "      <td>Black</td>\n",
       "      <td>Non-Female</td>\n",
       "      <td>0</td>\n",
       "      <td>0</td>\n",
       "      <td>40.0</td>\n",
       "      <td>United-States</td>\n",
       "      <td>&lt;=50K</td>\n",
       "    </tr>\n",
       "    <tr>\n",
       "      <th>4</th>\n",
       "      <td>28.0</td>\n",
       "      <td>Private</td>\n",
       "      <td>338409</td>\n",
       "      <td>Bachelors</td>\n",
       "      <td>13</td>\n",
       "      <td>Married-civ-spouse</td>\n",
       "      <td>Prof-specialty</td>\n",
       "      <td>Wife</td>\n",
       "      <td>Black</td>\n",
       "      <td>Female</td>\n",
       "      <td>0</td>\n",
       "      <td>0</td>\n",
       "      <td>40.0</td>\n",
       "      <td>Cuba</td>\n",
       "      <td>&lt;=50K</td>\n",
       "    </tr>\n",
       "  </tbody>\n",
       "</table>\n",
       "</div>"
      ],
      "text/plain": [
       "    age         workclass  fnlwgt  education  education-num  \\\n",
       "0  39.0         State-gov   77516  Bachelors             13   \n",
       "1  50.0  Self-emp-not-inc   83311  Bachelors             13   \n",
       "2  38.0           Private  215646    HS-grad              9   \n",
       "3  53.0           Private  234721       11th              7   \n",
       "4  28.0           Private  338409  Bachelors             13   \n",
       "\n",
       "       marital-status         occupation   relationship   race  sex_selfID  \\\n",
       "0       Never-married       Adm-clerical  Not-in-family  White  Non-Female   \n",
       "1  Married-civ-spouse    Exec-managerial        Husband  White  Non-Female   \n",
       "2            Divorced  Handlers-cleaners  Not-in-family  White  Non-Female   \n",
       "3  Married-civ-spouse  Handlers-cleaners        Husband  Black  Non-Female   \n",
       "4  Married-civ-spouse     Prof-specialty           Wife  Black      Female   \n",
       "\n",
       "   capital-gain  capital-loss  hours-per-week native-country income_binary  \n",
       "0          2174             0            40.0  United-States         <=50K  \n",
       "1             0             0            13.0  United-States         <=50K  \n",
       "2             0             0            40.0  United-States         <=50K  \n",
       "3             0             0            40.0  United-States         <=50K  \n",
       "4             0             0            40.0           Cuba         <=50K  "
      ]
     },
     "execution_count": 2,
     "metadata": {},
     "output_type": "execute_result"
    }
   ],
   "source": [
    "# File names of the four data sets\n",
    "adultDataSet_filename = os.path.join(os.getcwd(), \"data\", \"censusData.csv\")\n",
    "airbnbDataSet_filename = os.path.join(os.getcwd(), \"data\", \"airbnbListingsData.csv\")\n",
    "WHRDataSet_filename = os.path.join(os.getcwd(), \"data\", \"WHR2018Chapter2OnlineData.csv\")\n",
    "bookReviewDataSet_filename = os.path.join(os.getcwd(), \"data\", \"bookReviewsData.csv\")\n",
    "\n",
    "\n",
    "df = pd.read_csv(adultDataSet_filename)\n",
    "\n",
    "df.head()"
   ]
  },
  {
   "cell_type": "markdown",
   "metadata": {},
   "source": [
    "## Part 2: Define Your ML Problem\n",
    "\n",
    "Next you will formulate your ML Problem. In the markdown cell below, answer the following questions:\n",
    "\n",
    "1. List the data set you have chosen.\n",
    "2. What will you be predicting? What is the label?\n",
    "3. Is this a supervised or unsupervised learning problem? Is this a clustering, classification or regression problem? Is it a binary classificaiton or multi-class classifiction problem?\n",
    "4. What are your features? (note: this list may change after your explore your data)\n",
    "5. Explain why this is an important problem. In other words, how would a company create value with a model that predicts this label?"
   ]
  },
  {
   "cell_type": "markdown",
   "metadata": {},
   "source": [
    "<Double click this Markdown cell to make it editable, and record your answers here.>\n",
    "1. The data set I have chosen is the \"census\" data set\n",
    "2. We will be predicting an individual's workclass\n",
    "3. It is a supervised learning, multi-class classification problem.  \n",
    "4. The features will include age, education-num, capital-gain, capital-loss, hours-per-week, etc.\n",
    "5. It is an important problem because a company or institution can create value by tailoring certain products or services based on the type of work a person does."
   ]
  },
  {
   "cell_type": "markdown",
   "metadata": {},
   "source": [
    "## Part 3: Understand Your Data\n",
    "\n",
    "The next step is to perform exploratory data analysis. Inspect and analyze your data set with your machine learning problem in mind. Consider the following as you inspect your data:\n",
    "\n",
    "1. What data preparation techniques would you like to use? These data preparation techniques may include:\n",
    "\n",
    "    * addressing missingness, such as replacing missing values with means\n",
    "    * finding and replacing outliers\n",
    "    * renaming features and labels\n",
    "    * finding and replacing outliers\n",
    "    * performing feature engineering techniques such as one-hot encoding on categorical features\n",
    "    * selecting appropriate features and removing irrelevant features\n",
    "    * performing specific data cleaning and preprocessing techniques for an NLP problem\n",
    "    * addressing class imbalance in your data sample to promote fair AI\n",
    "    \n",
    "\n",
    "2. What machine learning model (or models) you would like to use that is suitable for your predictive problem and data?\n",
    "    * Are there other data preparation techniques that you will need to apply to build a balanced modeling data set for your problem and model? For example, will you need to scale your data?\n",
    " \n",
    " \n",
    "3. How will you evaluate and improve the model's performance?\n",
    "    * Are there specific evaluation metrics and methods that are appropriate for your model?\n",
    "    \n",
    "\n",
    "Think of the different techniques you have used to inspect and analyze your data in this course. These include using Pandas to apply data filters, using the Pandas `describe()` method to get insight into key statistics for each column, using the Pandas `dtypes` property to inspect the data type of each column, and using Matplotlib and Seaborn to detect outliers and visualize relationships between features and labels. If you are working on a classification problem, use techniques you have learned to determine if there is class imbalance.\n",
    "\n",
    "<b>Task</b>: Use the techniques you have learned in this course to inspect and analyze your data. You can import additional packages that you have used in this course that you will need to perform this task.\n",
    "\n",
    "<b>Note</b>: You can add code cells if needed by going to the <b>Insert</b> menu and clicking on <b>Insert Cell Below</b> in the drop-drown menu."
   ]
  },
  {
   "cell_type": "code",
   "execution_count": 3,
   "metadata": {},
   "outputs": [],
   "source": [
    "import pandas as pd\n",
    "import numpy as np\n",
    "import os \n",
    "import matplotlib.pyplot as plt\n",
    "import seaborn as sns\n",
    "import scipy.stats as stats"
   ]
  },
  {
   "cell_type": "code",
   "execution_count": 4,
   "metadata": {},
   "outputs": [
    {
     "name": "stdout",
     "output_type": "stream",
     "text": [
      "(32561, 15)\n",
      "Index(['age', 'workclass', 'fnlwgt', 'education', 'education-num',\n",
      "       'marital-status', 'occupation', 'relationship', 'race', 'sex_selfID',\n",
      "       'capital-gain', 'capital-loss', 'hours-per-week', 'native-country',\n",
      "       'income_binary'],\n",
      "      dtype='object')\n",
      "    age         workclass  fnlwgt  education  education-num  \\\n",
      "0  39.0         State-gov   77516  Bachelors             13   \n",
      "1  50.0  Self-emp-not-inc   83311  Bachelors             13   \n",
      "2  38.0           Private  215646    HS-grad              9   \n",
      "3  53.0           Private  234721       11th              7   \n",
      "4  28.0           Private  338409  Bachelors             13   \n",
      "5  37.0           Private  284582    Masters             14   \n",
      "6  49.0           Private  160187        9th              5   \n",
      "7  52.0  Self-emp-not-inc  209642    HS-grad              9   \n",
      "8  31.0           Private   45781    Masters             14   \n",
      "9  42.0           Private  159449  Bachelors             13   \n",
      "\n",
      "          marital-status         occupation   relationship   race  sex_selfID  \\\n",
      "0          Never-married       Adm-clerical  Not-in-family  White  Non-Female   \n",
      "1     Married-civ-spouse    Exec-managerial        Husband  White  Non-Female   \n",
      "2               Divorced  Handlers-cleaners  Not-in-family  White  Non-Female   \n",
      "3     Married-civ-spouse  Handlers-cleaners        Husband  Black  Non-Female   \n",
      "4     Married-civ-spouse     Prof-specialty           Wife  Black      Female   \n",
      "5     Married-civ-spouse    Exec-managerial           Wife  White      Female   \n",
      "6  Married-spouse-absent      Other-service  Not-in-family  Black      Female   \n",
      "7     Married-civ-spouse    Exec-managerial        Husband  White  Non-Female   \n",
      "8          Never-married     Prof-specialty  Not-in-family  White      Female   \n",
      "9     Married-civ-spouse    Exec-managerial        Husband  White  Non-Female   \n",
      "\n",
      "   capital-gain  capital-loss  hours-per-week native-country income_binary  \n",
      "0          2174             0            40.0  United-States         <=50K  \n",
      "1             0             0            13.0  United-States         <=50K  \n",
      "2             0             0            40.0  United-States         <=50K  \n",
      "3             0             0            40.0  United-States         <=50K  \n",
      "4             0             0            40.0           Cuba         <=50K  \n",
      "5             0             0            40.0  United-States         <=50K  \n",
      "6             0             0            16.0        Jamaica         <=50K  \n",
      "7             0             0            45.0  United-States          >50K  \n",
      "8         14084             0            50.0  United-States          >50K  \n",
      "9          5178             0            40.0  United-States          >50K  \n"
     ]
    }
   ],
   "source": [
    "#inspecting the data\n",
    "rows_and_columns = df.shape\n",
    "print(rows_and_columns)\n",
    "column_names = df.columns\n",
    "print(column_names)\n",
    "first_ten_rows = df.head(10)\n",
    "print(first_ten_rows)"
   ]
  },
  {
   "cell_type": "code",
   "execution_count": 5,
   "metadata": {},
   "outputs": [
    {
     "data": {
      "text/plain": [
       "0               State-gov\n",
       "1        Self-emp-not-inc\n",
       "2                 Private\n",
       "3                 Private\n",
       "4                 Private\n",
       "               ...       \n",
       "32556             Private\n",
       "32557             Private\n",
       "32558             Private\n",
       "32559             Private\n",
       "32560        Self-emp-inc\n",
       "Name: workclass, Length: 32561, dtype: object"
      ]
     },
     "execution_count": 5,
     "metadata": {},
     "output_type": "execute_result"
    }
   ],
   "source": [
    "#define the label\n",
    "df['workclass']"
   ]
  },
  {
   "cell_type": "code",
   "execution_count": 6,
   "metadata": {},
   "outputs": [
    {
     "data": {
      "text/plain": [
       "['age',\n",
       " 'fnlwgt',\n",
       " 'education',\n",
       " 'education-num',\n",
       " 'marital-status',\n",
       " 'occupation',\n",
       " 'relationship',\n",
       " 'race',\n",
       " 'sex_selfID',\n",
       " 'capital-gain',\n",
       " 'capital-loss',\n",
       " 'hours-per-week',\n",
       " 'native-country',\n",
       " 'income_binary']"
      ]
     },
     "execution_count": 6,
     "metadata": {},
     "output_type": "execute_result"
    }
   ],
   "source": [
    "features = [col for col in df.columns if col != 'workclass']\n",
    "features"
   ]
  },
  {
   "cell_type": "code",
   "execution_count": 7,
   "metadata": {},
   "outputs": [
    {
     "data": {
      "text/plain": [
       "age                162\n",
       "workclass         1836\n",
       "fnlwgt               0\n",
       "education            0\n",
       "education-num        0\n",
       "marital-status       0\n",
       "occupation        1843\n",
       "relationship         0\n",
       "race                 0\n",
       "sex_selfID           0\n",
       "capital-gain         0\n",
       "capital-loss         0\n",
       "hours-per-week     325\n",
       "native-country     583\n",
       "income_binary        0\n",
       "dtype: int64"
      ]
     },
     "execution_count": 7,
     "metadata": {},
     "output_type": "execute_result"
    }
   ],
   "source": [
    "nan_count = df.isnull().sum()\n",
    "nan_count"
   ]
  },
  {
   "cell_type": "code",
   "execution_count": 8,
   "metadata": {},
   "outputs": [
    {
     "name": "stdout",
     "output_type": "stream",
     "text": [
      "0\n",
      "0\n"
     ]
    }
   ],
   "source": [
    "#create dummy variables that indicate missingness\n",
    "df['age_na'] = df['age'].isnull()\n",
    "df['hours-per-week_na'] = df['hours-per-week'].isnull()\n",
    "\n",
    "#replace missing values with mean values of column\n",
    "mean_age = df['age'].mean()\n",
    "mean_hours = df['hours-per-week'].mean()\n",
    "df['age'].fillna(value=mean_age, inplace=True)\n",
    "df['hours-per-week'].fillna(value=mean_hours, inplace=True)\n",
    "#check results for missing values\n",
    "sum_age_missing = df['age'].isnull().sum()\n",
    "print(sum_age_missing)\n",
    "sum_hours_missing = df['hours-per-week'].isnull().sum()\n",
    "print(sum_hours_missing)"
   ]
  },
  {
   "cell_type": "code",
   "execution_count": 9,
   "metadata": {},
   "outputs": [
    {
     "name": "stdout",
     "output_type": "stream",
     "text": [
      "0\n",
      "0\n"
     ]
    }
   ],
   "source": [
    "# create dummy variables that indicate missingness\n",
    "df['workclass_na'] = df['workclass'].isnull()\n",
    "df['native_country_na'] = df['native-country'].isnull()\n",
    "\n",
    "# replace missing values with placeholder category\n",
    "df['workclass'].fillna('Unknown', inplace=True)\n",
    "df['native-country'].fillna('Unknown', inplace=True)\n",
    "\n",
    "# check results for missing values\n",
    "sum_workclass_missing = df['workclass'].isnull().sum()\n",
    "print(sum_workclass_missing)\n",
    "sum_native_country_missing = df['native-country'].isnull().sum()\n",
    "print(sum_native_country_missing)\n"
   ]
  },
  {
   "cell_type": "code",
   "execution_count": 10,
   "metadata": {},
   "outputs": [
    {
     "name": "stdout",
     "output_type": "stream",
     "text": [
      "Differences between original and winsorized education values: [0 1 2]\n"
     ]
    }
   ],
   "source": [
    "# winsorize education-num to remove outliers (top and bottom 1%)\n",
    "df['education_years'] = stats.mstats.winsorize(df['education-num'], limits=[0.01, 0.01])\n",
    "\n",
    "# check if any values changed\n",
    "differences = (df['education_years'] - df['education-num']).unique()\n",
    "print(\"Differences between original and winsorized education values:\", differences)\n",
    "\n",
    "# drop the original education-num column\n",
    "df.drop(columns=['education-num'], inplace=True)"
   ]
  },
  {
   "cell_type": "code",
   "execution_count": 11,
   "metadata": {},
   "outputs": [
    {
     "name": "stdout",
     "output_type": "stream",
     "text": [
      "workclass          9\n",
      "education         16\n",
      "marital-status     7\n",
      "occupation        14\n",
      "relationship       6\n",
      "race               5\n",
      "sex_selfID         2\n",
      "native-country    42\n",
      "income_binary      2\n",
      "dtype: int64\n"
     ]
    }
   ],
   "source": [
    "categorical = df.select_dtypes(include=['object']).columns.tolist()\n",
    "uniqueVal = df[categorical].nunique()\n",
    "print(uniqueVal)"
   ]
  },
  {
   "cell_type": "code",
   "execution_count": 12,
   "metadata": {},
   "outputs": [
    {
     "name": "stdout",
     "output_type": "stream",
     "text": [
      "education:\n",
      "['Bachelors' 'HS-grad' '11th' 'Masters' '9th' 'Some-college' 'Assoc-acdm'\n",
      " 'Assoc-voc' '7th-8th' 'Doctorate' 'Prof-school' '5th-6th' '10th'\n",
      " '1st-4th' 'Preschool' '12th'] \n",
      "\n",
      "sex_selfID:\n",
      "['Non-Female' 'Female'] \n",
      "\n",
      "marital-status:\n",
      "['Never-married' 'Married-civ-spouse' 'Divorced' 'Married-spouse-absent'\n",
      " 'Separated' 'Married-AF-spouse' 'Widowed'] \n",
      "\n",
      "relationship:\n",
      "['Not-in-family' 'Husband' 'Wife' 'Own-child' 'Unmarried' 'Other-relative'] \n",
      "\n",
      "race:\n",
      "['White' 'Black' 'Asian-Pac-Islander' 'Amer-Indian-Inuit' 'Other'] \n",
      "\n",
      "native-country:\n",
      "['United-States' 'Cuba' 'Jamaica' 'India' 'Unknown' 'Mexico' 'South'\n",
      " 'Puerto-Rico' 'Honduras' 'England' 'Canada' 'Germany' 'Iran'\n",
      " 'Philippines' 'Italy' 'Poland' 'Columbia' 'Cambodia' 'Thailand' 'Ecuador'\n",
      " 'Laos' 'Taiwan' 'Haiti' 'Portugal' 'Dominican-Republic' 'El-Salvador'\n",
      " 'France' 'Guatemala' 'China' 'Japan' 'Yugoslavia' 'Peru'\n",
      " 'Outlying-US(Guam-USVI-etc)' 'Scotland' 'Trinadad&Tobago' 'Greece'\n",
      " 'Nicaragua' 'Vietnam' 'Hong' 'Ireland' 'Hungary' 'Holand-Netherlands'] \n",
      "\n",
      "occupation:\n",
      "['Adm-clerical' 'Exec-managerial' 'Handlers-cleaners' 'Prof-specialty'\n",
      " 'Other-service' 'Sales' 'Craft-repair' 'Transport-moving'\n",
      " 'Farming-fishing' 'Machine-op-inspct' 'Tech-support' nan\n",
      " 'Protective-serv' 'Armed-Forces' 'Priv-house-serv'] \n",
      "\n",
      "income_binary:\n",
      "['<=50K' '>50K'] \n",
      "\n"
     ]
    }
   ],
   "source": [
    "columns_inspect = ['education', 'sex_selfID','marital-status', 'relationship', 'race', 'native-country', 'occupation', 'income_binary']\n",
    "\n",
    "for col in columns_inspect:\n",
    "    print(f\"{col}:\")\n",
    "    print(df[col].unique(), '\\n')"
   ]
  },
  {
   "cell_type": "code",
   "execution_count": 13,
   "metadata": {},
   "outputs": [],
   "source": [
    "#one hot encode\n",
    "df_encoded = pd.get_dummies(df[columns_inspect])"
   ]
  },
  {
   "cell_type": "code",
   "execution_count": 14,
   "metadata": {},
   "outputs": [],
   "source": [
    "df = pd.concat([df, df_encoded], axis=1)"
   ]
  },
  {
   "cell_type": "code",
   "execution_count": 15,
   "metadata": {},
   "outputs": [
    {
     "name": "stdout",
     "output_type": "stream",
     "text": [
      "Index(['age', 'workclass', 'fnlwgt', 'capital-gain', 'capital-loss',\n",
      "       'hours-per-week', 'age_na', 'hours-per-week_na', 'workclass_na',\n",
      "       'native_country_na',\n",
      "       ...\n",
      "       'occupation_Machine-op-inspct', 'occupation_Other-service',\n",
      "       'occupation_Priv-house-serv', 'occupation_Prof-specialty',\n",
      "       'occupation_Protective-serv', 'occupation_Sales',\n",
      "       'occupation_Tech-support', 'occupation_Transport-moving',\n",
      "       'income_binary_<=50K', 'income_binary_>50K'],\n",
      "      dtype='object', length=105)\n"
     ]
    }
   ],
   "source": [
    "df.drop(columns = columns_inspect, axis=1, inplace=True)\n",
    "print(df.columns)"
   ]
  },
  {
   "cell_type": "code",
   "execution_count": 16,
   "metadata": {},
   "outputs": [
    {
     "name": "stdout",
     "output_type": "stream",
     "text": [
      "Index(['age', 'workclass', 'capital-gain', 'capital-loss', 'hours-per-week',\n",
      "       'age_na', 'hours-per-week_na', 'workclass_na', 'native_country_na',\n",
      "       'education_years',\n",
      "       ...\n",
      "       'occupation_Machine-op-inspct', 'occupation_Other-service',\n",
      "       'occupation_Priv-house-serv', 'occupation_Prof-specialty',\n",
      "       'occupation_Protective-serv', 'occupation_Sales',\n",
      "       'occupation_Tech-support', 'occupation_Transport-moving',\n",
      "       'income_binary_<=50K', 'income_binary_>50K'],\n",
      "      dtype='object', length=104)\n"
     ]
    }
   ],
   "source": [
    "df.drop(columns=['fnlwgt'], inplace=True)\n",
    "print(df.columns)"
   ]
  },
  {
   "cell_type": "code",
   "execution_count": 17,
   "metadata": {},
   "outputs": [
    {
     "data": {
      "text/plain": [
       "age                            float64\n",
       "workclass                       object\n",
       "capital-gain                     int64\n",
       "capital-loss                     int64\n",
       "hours-per-week                 float64\n",
       "                                ...   \n",
       "occupation_Sales                 uint8\n",
       "occupation_Tech-support          uint8\n",
       "occupation_Transport-moving      uint8\n",
       "income_binary_<=50K              uint8\n",
       "income_binary_>50K               uint8\n",
       "Length: 104, dtype: object"
      ]
     },
     "execution_count": 17,
     "metadata": {},
     "output_type": "execute_result"
    }
   ],
   "source": [
    "df.dtypes"
   ]
  },
  {
   "cell_type": "code",
   "execution_count": 18,
   "metadata": {},
   "outputs": [
    {
     "data": {
      "text/html": [
       "<div>\n",
       "<style scoped>\n",
       "    .dataframe tbody tr th:only-of-type {\n",
       "        vertical-align: middle;\n",
       "    }\n",
       "\n",
       "    .dataframe tbody tr th {\n",
       "        vertical-align: top;\n",
       "    }\n",
       "\n",
       "    .dataframe thead th {\n",
       "        text-align: right;\n",
       "    }\n",
       "</style>\n",
       "<table border=\"1\" class=\"dataframe\">\n",
       "  <thead>\n",
       "    <tr style=\"text-align: right;\">\n",
       "      <th></th>\n",
       "      <th>age</th>\n",
       "      <th>capital-gain</th>\n",
       "      <th>capital-loss</th>\n",
       "      <th>hours-per-week</th>\n",
       "      <th>education_years</th>\n",
       "      <th>education_10th</th>\n",
       "      <th>education_11th</th>\n",
       "      <th>education_12th</th>\n",
       "      <th>education_1st-4th</th>\n",
       "      <th>education_5th-6th</th>\n",
       "      <th>...</th>\n",
       "      <th>occupation_Machine-op-inspct</th>\n",
       "      <th>occupation_Other-service</th>\n",
       "      <th>occupation_Priv-house-serv</th>\n",
       "      <th>occupation_Prof-specialty</th>\n",
       "      <th>occupation_Protective-serv</th>\n",
       "      <th>occupation_Sales</th>\n",
       "      <th>occupation_Tech-support</th>\n",
       "      <th>occupation_Transport-moving</th>\n",
       "      <th>income_binary_&lt;=50K</th>\n",
       "      <th>income_binary_&gt;50K</th>\n",
       "    </tr>\n",
       "  </thead>\n",
       "  <tbody>\n",
       "    <tr>\n",
       "      <th>count</th>\n",
       "      <td>32561.000000</td>\n",
       "      <td>32561.000000</td>\n",
       "      <td>32561.000000</td>\n",
       "      <td>32561.000000</td>\n",
       "      <td>32561.000000</td>\n",
       "      <td>32561.000000</td>\n",
       "      <td>32561.000000</td>\n",
       "      <td>32561.000000</td>\n",
       "      <td>32561.000000</td>\n",
       "      <td>32561.000000</td>\n",
       "      <td>...</td>\n",
       "      <td>32561.000000</td>\n",
       "      <td>32561.000000</td>\n",
       "      <td>32561.000000</td>\n",
       "      <td>32561.000000</td>\n",
       "      <td>32561.000000</td>\n",
       "      <td>32561.000000</td>\n",
       "      <td>32561.0000</td>\n",
       "      <td>32561.000000</td>\n",
       "      <td>32561.000000</td>\n",
       "      <td>32561.000000</td>\n",
       "    </tr>\n",
       "    <tr>\n",
       "      <th>mean</th>\n",
       "      <td>38.589216</td>\n",
       "      <td>615.907773</td>\n",
       "      <td>87.303830</td>\n",
       "      <td>40.450428</td>\n",
       "      <td>10.088971</td>\n",
       "      <td>0.028654</td>\n",
       "      <td>0.036086</td>\n",
       "      <td>0.013298</td>\n",
       "      <td>0.005160</td>\n",
       "      <td>0.010227</td>\n",
       "      <td>...</td>\n",
       "      <td>0.061485</td>\n",
       "      <td>0.101195</td>\n",
       "      <td>0.004576</td>\n",
       "      <td>0.127146</td>\n",
       "      <td>0.019932</td>\n",
       "      <td>0.112097</td>\n",
       "      <td>0.0285</td>\n",
       "      <td>0.049046</td>\n",
       "      <td>0.759190</td>\n",
       "      <td>0.240810</td>\n",
       "    </tr>\n",
       "    <tr>\n",
       "      <th>std</th>\n",
       "      <td>13.613868</td>\n",
       "      <td>2420.191974</td>\n",
       "      <td>402.960219</td>\n",
       "      <td>12.291939</td>\n",
       "      <td>2.547541</td>\n",
       "      <td>0.166834</td>\n",
       "      <td>0.186507</td>\n",
       "      <td>0.114550</td>\n",
       "      <td>0.071646</td>\n",
       "      <td>0.100612</td>\n",
       "      <td>...</td>\n",
       "      <td>0.240221</td>\n",
       "      <td>0.301591</td>\n",
       "      <td>0.067492</td>\n",
       "      <td>0.333142</td>\n",
       "      <td>0.139768</td>\n",
       "      <td>0.315491</td>\n",
       "      <td>0.1664</td>\n",
       "      <td>0.215968</td>\n",
       "      <td>0.427581</td>\n",
       "      <td>0.427581</td>\n",
       "    </tr>\n",
       "    <tr>\n",
       "      <th>min</th>\n",
       "      <td>17.000000</td>\n",
       "      <td>0.000000</td>\n",
       "      <td>0.000000</td>\n",
       "      <td>1.000000</td>\n",
       "      <td>3.000000</td>\n",
       "      <td>0.000000</td>\n",
       "      <td>0.000000</td>\n",
       "      <td>0.000000</td>\n",
       "      <td>0.000000</td>\n",
       "      <td>0.000000</td>\n",
       "      <td>...</td>\n",
       "      <td>0.000000</td>\n",
       "      <td>0.000000</td>\n",
       "      <td>0.000000</td>\n",
       "      <td>0.000000</td>\n",
       "      <td>0.000000</td>\n",
       "      <td>0.000000</td>\n",
       "      <td>0.0000</td>\n",
       "      <td>0.000000</td>\n",
       "      <td>0.000000</td>\n",
       "      <td>0.000000</td>\n",
       "    </tr>\n",
       "    <tr>\n",
       "      <th>25%</th>\n",
       "      <td>28.000000</td>\n",
       "      <td>0.000000</td>\n",
       "      <td>0.000000</td>\n",
       "      <td>40.000000</td>\n",
       "      <td>9.000000</td>\n",
       "      <td>0.000000</td>\n",
       "      <td>0.000000</td>\n",
       "      <td>0.000000</td>\n",
       "      <td>0.000000</td>\n",
       "      <td>0.000000</td>\n",
       "      <td>...</td>\n",
       "      <td>0.000000</td>\n",
       "      <td>0.000000</td>\n",
       "      <td>0.000000</td>\n",
       "      <td>0.000000</td>\n",
       "      <td>0.000000</td>\n",
       "      <td>0.000000</td>\n",
       "      <td>0.0000</td>\n",
       "      <td>0.000000</td>\n",
       "      <td>1.000000</td>\n",
       "      <td>0.000000</td>\n",
       "    </tr>\n",
       "    <tr>\n",
       "      <th>50%</th>\n",
       "      <td>37.000000</td>\n",
       "      <td>0.000000</td>\n",
       "      <td>0.000000</td>\n",
       "      <td>40.000000</td>\n",
       "      <td>10.000000</td>\n",
       "      <td>0.000000</td>\n",
       "      <td>0.000000</td>\n",
       "      <td>0.000000</td>\n",
       "      <td>0.000000</td>\n",
       "      <td>0.000000</td>\n",
       "      <td>...</td>\n",
       "      <td>0.000000</td>\n",
       "      <td>0.000000</td>\n",
       "      <td>0.000000</td>\n",
       "      <td>0.000000</td>\n",
       "      <td>0.000000</td>\n",
       "      <td>0.000000</td>\n",
       "      <td>0.0000</td>\n",
       "      <td>0.000000</td>\n",
       "      <td>1.000000</td>\n",
       "      <td>0.000000</td>\n",
       "    </tr>\n",
       "    <tr>\n",
       "      <th>75%</th>\n",
       "      <td>48.000000</td>\n",
       "      <td>0.000000</td>\n",
       "      <td>0.000000</td>\n",
       "      <td>45.000000</td>\n",
       "      <td>12.000000</td>\n",
       "      <td>0.000000</td>\n",
       "      <td>0.000000</td>\n",
       "      <td>0.000000</td>\n",
       "      <td>0.000000</td>\n",
       "      <td>0.000000</td>\n",
       "      <td>...</td>\n",
       "      <td>0.000000</td>\n",
       "      <td>0.000000</td>\n",
       "      <td>0.000000</td>\n",
       "      <td>0.000000</td>\n",
       "      <td>0.000000</td>\n",
       "      <td>0.000000</td>\n",
       "      <td>0.0000</td>\n",
       "      <td>0.000000</td>\n",
       "      <td>1.000000</td>\n",
       "      <td>0.000000</td>\n",
       "    </tr>\n",
       "    <tr>\n",
       "      <th>max</th>\n",
       "      <td>90.000000</td>\n",
       "      <td>14084.000000</td>\n",
       "      <td>4356.000000</td>\n",
       "      <td>99.000000</td>\n",
       "      <td>16.000000</td>\n",
       "      <td>1.000000</td>\n",
       "      <td>1.000000</td>\n",
       "      <td>1.000000</td>\n",
       "      <td>1.000000</td>\n",
       "      <td>1.000000</td>\n",
       "      <td>...</td>\n",
       "      <td>1.000000</td>\n",
       "      <td>1.000000</td>\n",
       "      <td>1.000000</td>\n",
       "      <td>1.000000</td>\n",
       "      <td>1.000000</td>\n",
       "      <td>1.000000</td>\n",
       "      <td>1.0000</td>\n",
       "      <td>1.000000</td>\n",
       "      <td>1.000000</td>\n",
       "      <td>1.000000</td>\n",
       "    </tr>\n",
       "  </tbody>\n",
       "</table>\n",
       "<p>8 rows × 99 columns</p>\n",
       "</div>"
      ],
      "text/plain": [
       "                age  capital-gain  capital-loss  hours-per-week  \\\n",
       "count  32561.000000  32561.000000  32561.000000    32561.000000   \n",
       "mean      38.589216    615.907773     87.303830       40.450428   \n",
       "std       13.613868   2420.191974    402.960219       12.291939   \n",
       "min       17.000000      0.000000      0.000000        1.000000   \n",
       "25%       28.000000      0.000000      0.000000       40.000000   \n",
       "50%       37.000000      0.000000      0.000000       40.000000   \n",
       "75%       48.000000      0.000000      0.000000       45.000000   \n",
       "max       90.000000  14084.000000   4356.000000       99.000000   \n",
       "\n",
       "       education_years  education_10th  education_11th  education_12th  \\\n",
       "count     32561.000000    32561.000000    32561.000000    32561.000000   \n",
       "mean         10.088971        0.028654        0.036086        0.013298   \n",
       "std           2.547541        0.166834        0.186507        0.114550   \n",
       "min           3.000000        0.000000        0.000000        0.000000   \n",
       "25%           9.000000        0.000000        0.000000        0.000000   \n",
       "50%          10.000000        0.000000        0.000000        0.000000   \n",
       "75%          12.000000        0.000000        0.000000        0.000000   \n",
       "max          16.000000        1.000000        1.000000        1.000000   \n",
       "\n",
       "       education_1st-4th  education_5th-6th  ...  \\\n",
       "count       32561.000000       32561.000000  ...   \n",
       "mean            0.005160           0.010227  ...   \n",
       "std             0.071646           0.100612  ...   \n",
       "min             0.000000           0.000000  ...   \n",
       "25%             0.000000           0.000000  ...   \n",
       "50%             0.000000           0.000000  ...   \n",
       "75%             0.000000           0.000000  ...   \n",
       "max             1.000000           1.000000  ...   \n",
       "\n",
       "       occupation_Machine-op-inspct  occupation_Other-service  \\\n",
       "count                  32561.000000              32561.000000   \n",
       "mean                       0.061485                  0.101195   \n",
       "std                        0.240221                  0.301591   \n",
       "min                        0.000000                  0.000000   \n",
       "25%                        0.000000                  0.000000   \n",
       "50%                        0.000000                  0.000000   \n",
       "75%                        0.000000                  0.000000   \n",
       "max                        1.000000                  1.000000   \n",
       "\n",
       "       occupation_Priv-house-serv  occupation_Prof-specialty  \\\n",
       "count                32561.000000               32561.000000   \n",
       "mean                     0.004576                   0.127146   \n",
       "std                      0.067492                   0.333142   \n",
       "min                      0.000000                   0.000000   \n",
       "25%                      0.000000                   0.000000   \n",
       "50%                      0.000000                   0.000000   \n",
       "75%                      0.000000                   0.000000   \n",
       "max                      1.000000                   1.000000   \n",
       "\n",
       "       occupation_Protective-serv  occupation_Sales  occupation_Tech-support  \\\n",
       "count                32561.000000      32561.000000               32561.0000   \n",
       "mean                     0.019932          0.112097                   0.0285   \n",
       "std                      0.139768          0.315491                   0.1664   \n",
       "min                      0.000000          0.000000                   0.0000   \n",
       "25%                      0.000000          0.000000                   0.0000   \n",
       "50%                      0.000000          0.000000                   0.0000   \n",
       "75%                      0.000000          0.000000                   0.0000   \n",
       "max                      1.000000          1.000000                   1.0000   \n",
       "\n",
       "       occupation_Transport-moving  income_binary_<=50K  income_binary_>50K  \n",
       "count                 32561.000000         32561.000000        32561.000000  \n",
       "mean                      0.049046             0.759190            0.240810  \n",
       "std                       0.215968             0.427581            0.427581  \n",
       "min                       0.000000             0.000000            0.000000  \n",
       "25%                       0.000000             1.000000            0.000000  \n",
       "50%                       0.000000             1.000000            0.000000  \n",
       "75%                       0.000000             1.000000            0.000000  \n",
       "max                       1.000000             1.000000            1.000000  \n",
       "\n",
       "[8 rows x 99 columns]"
      ]
     },
     "execution_count": 18,
     "metadata": {},
     "output_type": "execute_result"
    }
   ],
   "source": [
    "df.describe()"
   ]
  },
  {
   "cell_type": "code",
   "execution_count": 19,
   "metadata": {},
   "outputs": [
    {
     "data": {
      "image/png": "[encoded data removed]",
      "text/plain": [
       "<Figure size 1200x800 with 2 Axes>"
      ]
     },
     "metadata": {},
     "output_type": "display_data"
    }
   ],
   "source": [
    "numeric_cols = ['age', 'education_years', 'capital-gain', 'capital-loss', 'hours-per-week']\n",
    "plt.figure(figsize=(12, 8))\n",
    "sns.heatmap(df[numeric_cols].corr(), annot=True)\n",
    "plt.title(\"Correlation Heatmap\")\n",
    "plt.show()"
   ]
  },
  {
   "cell_type": "code",
   "execution_count": 20,
   "metadata": {},
   "outputs": [
    {
     "data": {
      "image/png": "[encoded data removed]",
      "text/plain": [
       "<Figure size 640x480 with 1 Axes>"
      ]
     },
     "metadata": {},
     "output_type": "display_data"
    }
   ],
   "source": [
    "sns.countplot(data=df, x='workclass')\n",
    "plt.title('Workclass Distribution')\n",
    "plt.xticks(rotation=45)\n",
    "plt.show()"
   ]
  },
  {
   "cell_type": "code",
   "execution_count": 21,
   "metadata": {},
   "outputs": [],
   "source": [
    "#create labeled examples from dataset\n",
    "y = df['workclass']\n",
    "X = df.drop(columns = 'workclass', axis=1)"
   ]
  },
  {
   "cell_type": "code",
   "execution_count": 22,
   "metadata": {},
   "outputs": [
    {
     "name": "stdout",
     "output_type": "stream",
     "text": [
      "(32561, 103)\n",
      "(32561,)\n",
      "Index(['age', 'capital-gain', 'capital-loss', 'hours-per-week', 'age_na',\n",
      "       'hours-per-week_na', 'workclass_na', 'native_country_na',\n",
      "       'education_years', 'education_10th'],\n",
      "      dtype='object')\n",
      "Private             22696\n",
      "Self-emp-not-inc     2541\n",
      "Local-gov            2093\n",
      "Unknown              1836\n",
      "State-gov            1298\n",
      "Self-emp-inc         1116\n",
      "Federal-gov           960\n",
      "Without-pay            14\n",
      "Never-worked            7\n",
      "Name: workclass, dtype: int64\n"
     ]
    }
   ],
   "source": [
    "print(X.shape)\n",
    "print(y.shape)\n",
    "print(X.columns[:10])  # see some features\n",
    "print(y.value_counts())  # check class balance"
   ]
  },
  {
   "cell_type": "markdown",
   "metadata": {},
   "source": [
    "## Part 4: Define Your Project Plan\n",
    "\n",
    "Now that you understand your data, in the markdown cell below, define your plan to implement the remaining phases of the machine learning life cycle (data preparation, modeling, evaluation) to solve your ML problem. Answer the following questions:\n",
    "\n",
    "* Do you have a new feature list? If so, what are the features that you chose to keep and remove after inspecting the data? \n",
    "* Explain different data preparation techniques that you will use to prepare your data for modeling.\n",
    "* What is your model (or models)?\n",
    "* Describe your plan to train your model, analyze its performance and then improve the model. That is, describe your model building, validation and selection plan to produce a model that generalizes well to new data. "
   ]
  },
  {
   "cell_type": "markdown",
   "metadata": {},
   "source": [
    "<Double click this Markdown cell to make it editable, and record your answers here.>\n",
    "-After inspecting the data, I have a new feature list that contains the numerical features alongside the encoded categorical features as well as the indicators for missingness. I removed the original categorical columns.\n",
    "-I replaced the numerical missing values and replaced the categorical missing values. I also applied one-hot encoding to relevant categorical features.\n",
    "-My models are the knn, decision tree, random forest, and gradient boosted decisiont trees.\n",
    "-My plan is: Split the data into training and test sets, train several models including Random Forest and Gradient Boosted Trees, and evaluate them using accuracy and feature importance. I will then use GridSearchCV to tune hyperparameters and improve performance. I will also retrain models using the top features to reduce complexity. "
   ]
  },
  {
   "cell_type": "markdown",
   "metadata": {},
   "source": [
    "## Part 5: Implement Your Project Plan\n",
    "\n",
    "<b>Task:</b> In the code cell below, import additional packages that you have used in this course that you will need to implement your project plan."
   ]
  },
  {
   "cell_type": "code",
   "execution_count": 23,
   "metadata": {},
   "outputs": [],
   "source": [
    "from sklearn.model_selection import train_test_split, GridSearchCV\n",
    "from sklearn.linear_model import LogisticRegression\n",
    "from sklearn.metrics import accuracy_score, confusion_matrix, precision_recall_curve\n",
    "from sklearn.model_selection import train_test_split \n",
    "from sklearn.preprocessing import OneHotEncoder \n",
    "from sklearn.tree import DecisionTreeClassifier\n",
    "from sklearn.neighbors import KNeighborsClassifier\n",
    "from sklearn.metrics import accuracy_score\n",
    "from sklearn.ensemble import GradientBoostingClassifier\n",
    "from sklearn.metrics import accuracy_score, classification_report, confusion_matrix\n",
    "from sklearn.ensemble import RandomForestClassifier"
   ]
  },
  {
   "cell_type": "markdown",
   "metadata": {},
   "source": [
    "<b>Task:</b> Use the rest of this notebook to carry out your project plan. \n",
    "\n",
    "You will:\n",
    "\n",
    "1. Prepare your data for your model.\n",
    "2. Fit your model to the training data and evaluate your model.\n",
    "3. Improve your model's performance by performing model selection and/or feature selection techniques to find best model for your problem.\n",
    "\n",
    "Add code cells below and populate the notebook with commentary, code, analyses, results, and figures as you see fit. "
   ]
  },
  {
   "cell_type": "code",
   "execution_count": 24,
   "metadata": {},
   "outputs": [],
   "source": [
    "X_train, X_test, y_train, y_test = train_test_split(X, y, test_size = 0.3, random_state = 123)"
   ]
  },
  {
   "cell_type": "code",
   "execution_count": 25,
   "metadata": {},
   "outputs": [],
   "source": [
    "def train_test_knn(X_train, X_test, y_train, y_test, k):\n",
    "    model = KNeighborsClassifier(n_neighbors=k)\n",
    "    model.fit(X_train,y_train)\n",
    "    class_label_predictions = model.predict(X_test)\n",
    "    acc_score=accuracy_score(y_test,class_label_predictions)\n",
    "    return(acc_score)"
   ]
  },
  {
   "cell_type": "code",
   "execution_count": 26,
   "metadata": {},
   "outputs": [
    {
     "name": "stdout",
     "output_type": "stream",
     "text": [
      "k=3, accuracy score: 0.6443853004401678\n",
      "k=30, accuracy score: 0.7092844712867233\n",
      "k=300, accuracy score: 0.7036544170334732\n"
     ]
    }
   ],
   "source": [
    "k_vals = [3, 30, 300]\n",
    "acc1 = []\n",
    "\n",
    "for k in k_vals:\n",
    "    score = train_test_knn(X_train, X_test, y_train, y_test, k)\n",
    "    print('k=' + str(k) + ', accuracy score: ' + str(score))\n",
    "    acc1.append(float(score))"
   ]
  },
  {
   "cell_type": "code",
   "execution_count": 27,
   "metadata": {},
   "outputs": [],
   "source": [
    "def train_test_DT(X_train, X_test, y_train, y_test, depth, leaf=1, crit='entropy'):\n",
    "    \n",
    "    model = DecisionTreeClassifier(criterion = crit, max_depth = depth, min_samples_leaf = leaf)\n",
    "    model.fit(X_train,y_train)\n",
    "    class_label_predictions = model.predict(X_test)\n",
    "    acc_score = accuracy_score(y_test, class_label_predictions)\n",
    "    return(acc_score)"
   ]
  },
  {
   "cell_type": "code",
   "execution_count": 28,
   "metadata": {},
   "outputs": [
    {
     "name": "stdout",
     "output_type": "stream",
     "text": [
      "age                           0\n",
      "native-country_Ireland        0\n",
      "native-country_Poland         0\n",
      "native-country_Philippines    0\n",
      "native-country_Peru           0\n",
      "dtype: int64\n",
      "0\n"
     ]
    }
   ],
   "source": [
    "print(X_train.isnull().sum().sort_values(ascending=False).head())\n",
    "print(y_train.isnull().sum())"
   ]
  },
  {
   "cell_type": "code",
   "execution_count": 29,
   "metadata": {},
   "outputs": [
    {
     "name": "stdout",
     "output_type": "stream",
     "text": [
      "max depth: 8, accuracy score: 0.7699866925990377\n",
      "max depth: 32, accuracy score: 0.647763332992118\n"
     ]
    }
   ],
   "source": [
    "depth1 = 8\n",
    "depth2 = 32\n",
    "\n",
    "max_depth_range = [depth1, depth2]\n",
    "acc=[]\n",
    "\n",
    "for md in max_depth_range:\n",
    "    score = train_test_DT(X_train, X_test, y_train, y_test, md)\n",
    "    print('max depth: ' + str(md) + ', accuracy score: ' +str(score))\n",
    "    acc.append(float(score))"
   ]
  },
  {
   "cell_type": "code",
   "execution_count": 30,
   "metadata": {},
   "outputs": [
    {
     "name": "stdout",
     "output_type": "stream",
     "text": [
      "max depth: 1, accuracy score: 0.7616951581533422\n",
      "max depth: 2, accuracy score: 0.7616951581533422\n",
      "max depth: 4, accuracy score: 0.7673252124065922\n",
      "max depth: 8, accuracy score: 0.7696795987306787\n",
      "max depth: 16, accuracy score: 0.7207493090387962\n",
      "max depth: 32, accuracy score: 0.6468420513870407\n"
     ]
    }
   ],
   "source": [
    "#training with various depths for decision tree\n",
    "depth1 = 1\n",
    "depth2 = 2\n",
    "depth3 = 4\n",
    "depth4 = 8\n",
    "depth5 = 16\n",
    "depth6 = 32\n",
    "\n",
    "acc = []\n",
    "\n",
    "max_depth_range = [depth1, depth2, depth3, depth4, depth5, depth6]\n",
    "for md in max_depth_range:\n",
    "    score = train_test_DT(X_train, X_test, y_train, y_test, md)\n",
    "    print('max depth: ' + str(md) + ', accuracy score: ' +str(score))\n",
    "    acc.append(float(score))"
   ]
  },
  {
   "cell_type": "code",
   "execution_count": 31,
   "metadata": {},
   "outputs": [],
   "source": [
    "#set up parameter grid for random forest classifier\n",
    "md = [2**n for n in range(2, 6)]          # max_depth: [4, 8, 16, 32]\n",
    "msl = [25*2**n for n in range(0, 3)]      # min_samples_leaf: [25, 50, 100]\n",
    "param_grid = {'max_depth': md, 'min_samples_leaf': msl}\n"
   ]
  },
  {
   "cell_type": "code",
   "execution_count": 32,
   "metadata": {},
   "outputs": [
    {
     "name": "stdout",
     "output_type": "stream",
     "text": [
      "Done\n"
     ]
    }
   ],
   "source": [
    "rf = RandomForestClassifier(n_estimators=100, random_state=42)\n",
    "#Grid search with 4-fold cross-validation\n",
    "rf_grid = GridSearchCV(estimator=rf, param_grid=param_grid, cv=4)\n",
    "rf_grid_search = rf_grid.fit(X_train, y_train)\n",
    "print('Done')"
   ]
  },
  {
   "cell_type": "code",
   "execution_count": 33,
   "metadata": {},
   "outputs": [
    {
     "name": "stdout",
     "output_type": "stream",
     "text": [
      "Best value for max depth: 32\n",
      "Best value for min_samples_leaf: 25\n",
      "Best accuracy score from cross-validation: 0.7578975078975079\n"
     ]
    }
   ],
   "source": [
    "best_md = rf_grid_search.best_estimator_.max_depth\n",
    "best_msl = rf_grid_search.best_estimator_.min_samples_leaf\n",
    "print('Best value for max depth:', best_md)\n",
    "print('Best value for min_samples_leaf:', best_msl)\n",
    "print('Best accuracy score from cross-validation:', rf_grid_search.best_score_)"
   ]
  },
  {
   "cell_type": "code",
   "execution_count": 34,
   "metadata": {},
   "outputs": [
    {
     "name": "stdout",
     "output_type": "stream",
     "text": [
      "Accuracy score: 0.7681441293888832\n"
     ]
    }
   ],
   "source": [
    "model = RandomForestClassifier(max_depth=best_md, min_samples_leaf=best_msl)\n",
    "\n",
    "#Fit the model to the training data \n",
    "model.fit(X_train, y_train)\n",
    "\n",
    "# Use the predict() method to make predictions on the test data and assign the results to the variable\n",
    "# 'class_label_predictions'\n",
    "# YOUR CODE HERE\n",
    "class_label_predictions = model.predict(X_test)\n",
    "\n",
    "# Compute the accuracy score and assign the result to the variable 'acc_score'\n",
    "# YOUR CODE HERE\n",
    "acc_score = accuracy_score(y_test, class_label_predictions)\n",
    "\n",
    "print('Accuracy score: {0}'.format(acc_score))"
   ]
  },
  {
   "cell_type": "code",
   "execution_count": 35,
   "metadata": {},
   "outputs": [
    {
     "data": {
      "text/plain": [
       "{'max_depth': [4, 8, 16, 32], 'min_samples_leaf': [25, 50, 100]}"
      ]
     },
     "execution_count": 35,
     "metadata": {},
     "output_type": "execute_result"
    }
   ],
   "source": [
    "#set up the parameter grid for decision tree classifier\n",
    "md = [2**n for n in range(2,6)]\n",
    "msl = [25*2**n for n in range(0,3)]\n",
    "param_grid={'max_depth':md, 'min_samples_leaf':msl}\n",
    "\n",
    "param_grid"
   ]
  },
  {
   "cell_type": "code",
   "execution_count": 36,
   "metadata": {},
   "outputs": [
    {
     "name": "stdout",
     "output_type": "stream",
     "text": [
      "Running Grid Search...\n",
      "Done\n"
     ]
    }
   ],
   "source": [
    "print('Running Grid Search...')\n",
    "\n",
    "# Create a DecisionTreeClassifier model object without supplying arguments\n",
    "model = DecisionTreeClassifier()\n",
    "\n",
    "# Run a Grid Search with 4-fold cross-validation using our the model.\n",
    "# Pass all relevant parameters to GridSearchCV and assign the output to the object 'grid'\n",
    "grid = GridSearchCV(model, param_grid, cv=4)\n",
    "\n",
    "# Fit the model to the training data and assign the fitted model to the \n",
    "# variable grid_search\n",
    "grid_search = grid.fit(X_train, y_train)\n",
    "\n",
    "print('Done')"
   ]
  },
  {
   "cell_type": "code",
   "execution_count": 37,
   "metadata": {},
   "outputs": [
    {
     "name": "stdout",
     "output_type": "stream",
     "text": [
      "Best value for max depth: 8\n",
      "Best value for the minimum number of samples required to be at a leaf node: 50\n",
      "Accuracy score: 0.7603545103545103\n"
     ]
    }
   ],
   "source": [
    "best_md = grid_search.best_estimator_.max_depth\n",
    "best_msl = grid_search.best_estimator_.min_samples_leaf\n",
    "\n",
    "# Print best performing hyperparameter configuration\n",
    "print('Best value for max depth: {0}'.format(best_md))\n",
    "print('Best value for the minimum number of samples required to be at a leaf node: {0}'\n",
    "      .format(best_msl))\n",
    "\n",
    "# Print best accuracy score resulting from this configuration\n",
    "print('Accuracy score: {0}'.format(grid_search.best_score_))"
   ]
  },
  {
   "cell_type": "code",
   "execution_count": 38,
   "metadata": {},
   "outputs": [
    {
     "name": "stdout",
     "output_type": "stream",
     "text": [
      "Accuracy score: 0.7691677756167469\n"
     ]
    }
   ],
   "source": [
    "# Create a DecisionTreeClassifier model object and assign it to the variable 'model'\n",
    "# YOUR CODE HERE\n",
    "model = DecisionTreeClassifier(max_depth=best_md, min_samples_leaf=best_msl)\n",
    "\n",
    "# Fit the model to the training data \n",
    "# YOUR CODE HERE\n",
    "model.fit(X_train, y_train)\n",
    "\n",
    "# Use the predict() method to make predictions on the test data and assign the results to the variable\n",
    "# 'class_label_predictions'\n",
    "# YOUR CODE HERE\n",
    "class_label_predictions = model.predict(X_test)\n",
    "\n",
    "# Compute the accuracy score and assign the result to the variable 'acc_score'\n",
    "# YOUR CODE HERE\n",
    "acc_score = accuracy_score(y_test, class_label_predictions)\n",
    "\n",
    "print('Accuracy score: {0}'.format(acc_score))"
   ]
  },
  {
   "cell_type": "code",
   "execution_count": 39,
   "metadata": {},
   "outputs": [
    {
     "name": "stdout",
     "output_type": "stream",
     "text": [
      "Top five features: ['workclass_na', 'age', 'occupation_Protective-serv', 'occupation_Farming-fishing', 'occupation_Prof-specialty']\n"
     ]
    }
   ],
   "source": [
    "#Obtain \"feature importance\" scores from the model object and save the array to the variable \n",
    "# 'feature_imp'\n",
    "feature_imp = model.feature_importances_\n",
    "\n",
    "#Create a Pandas DataFrame with a list of all features and their scores. \n",
    "#Save the result to the variable 'df_features'\n",
    "df_features = pd.DataFrame({'name': X_train.columns.values, 'imp': feature_imp})\n",
    "\n",
    "#Sort df_features in descending order and\n",
    "# save the result to the variable 'df_sorted'\n",
    "df_sorted = df_features.sort_values(by='imp', ascending=False)\n",
    "\n",
    "#Obtain the top 5 sorted feature names and save the result to list 'top_five' \n",
    "top_five = df_sorted.iloc[:5]['name'].tolist()\n",
    "print('Top five features: {0}'.format(top_five))\n"
   ]
  },
  {
   "cell_type": "code",
   "execution_count": 40,
   "metadata": {},
   "outputs": [
    {
     "data": {
      "text/plain": [
       "Text(0, 0.5, 'Normalized importance')"
      ]
     },
     "execution_count": 40,
     "metadata": {},
     "output_type": "execute_result"
    },
    {
     "data": {
      "image/png": "[encoded data removed]",
      "text/plain": [
       "<Figure size 640x480 with 1 Axes>"
      ]
     },
     "metadata": {},
     "output_type": "display_data"
    }
   ],
   "source": [
    "fig, ax = plt.subplots()\n",
    "ax.bar(np.arange(5), sorted(model.feature_importances_, reverse=True)[:5], width = 0.35)\n",
    "ax.set_xticks(np.arange(5))\n",
    "ax.set_xticklabels(top_five, rotation = 90)\n",
    "plt.title('Feature importance from DT')\n",
    "ax.set_ylabel('Normalized importance')"
   ]
  },
  {
   "cell_type": "code",
   "execution_count": 41,
   "metadata": {},
   "outputs": [],
   "source": [
    "top_cols = df_sorted.iloc[:5]['name'].tolist()\n",
    "X_train_top = X_train[top_cols]\n",
    "X_test_top = X_test[top_cols]\n"
   ]
  },
  {
   "cell_type": "code",
   "execution_count": 42,
   "metadata": {},
   "outputs": [
    {
     "name": "stdout",
     "output_type": "stream",
     "text": [
      "Accuracy using top 5 features: 0.7719316204319787\n"
     ]
    }
   ],
   "source": [
    "# Retrain Decision Tree on top 5 features\n",
    "model_top = DecisionTreeClassifier(max_depth=best_md, min_samples_leaf=best_msl)\n",
    "model_top.fit(X_train_top, y_train)\n",
    "pred_top = model_top.predict(X_test_top)\n",
    "acc_top = accuracy_score(y_test, pred_top)\n",
    "print(\"Accuracy using top 5 features:\", acc_top)\n"
   ]
  },
  {
   "cell_type": "code",
   "execution_count": null,
   "metadata": {},
   "outputs": [],
   "source": [
    "print('hi')"
   ]
  },
  {
   "cell_type": "code",
   "execution_count": 43,
   "metadata": {},
   "outputs": [
    {
     "data": {
      "text/plain": [
       "{'max_depth': [4, 8, 16, 32], 'min_samples_leaf': [25, 50, 100]}"
      ]
     },
     "execution_count": 43,
     "metadata": {},
     "output_type": "execute_result"
    }
   ],
   "source": [
    "#set up parameter grid for gradient boosting classifier\n",
    "md = [2**n for n in range(2, 6)]          # max_depth: [4, 8, 16, 32]\n",
    "msl = [25*2**n for n in range(0, 3)]      # min_samples_leaf: [25, 50, 100]\n",
    "param_grid = {'max_depth': md, 'min_samples_leaf': msl}\n",
    "param_grid"
   ]
  },
  {
   "cell_type": "code",
   "execution_count": null,
   "metadata": {
    "scrolled": true
   },
   "outputs": [
    {
     "name": "stdout",
     "output_type": "stream",
     "text": [
      "Running Grid Search...\n"
     ]
    }
   ],
   "source": [
    "print('Running Grid Search...')\n",
    "model = GradientBoostingClassifier()\n",
    "grid = GridSearchCV(model, param_grid, cv=4)\n",
    "grid_search = grid.fit(X_train, y_train)\n",
    "print('Done')"
   ]
  },
  {
   "cell_type": "code",
   "execution_count": null,
   "metadata": {},
   "outputs": [],
   "source": [
    "best_md = grid_search.best_estimator_.max_depth\n",
    "best_msl = grid_search.best_estimator_.min_samples_leaf\n",
    "\n",
    "# Print best performing hyperparameter configuration\n",
    "print('Best value for max depth: {0}'.format(best_md))\n",
    "print('Best value for the minimum number of samples required to be at a leaf node: {0}'\n",
    "      .format(best_msl))\n",
    "\n",
    "# Print best accuracy score resulting from this configuration\n",
    "print('Accuracy score: {0}'.format(grid_search.best_score_))"
   ]
  },
  {
   "cell_type": "code",
   "execution_count": null,
   "metadata": {},
   "outputs": [],
   "source": [
    "# Train best model on full training set\n",
    "model = GradientBoostingClassifier(max_depth=best_md,min_samples_leaf=best_msl)\n",
    "model.fit(X_train, y_train)\n",
    "\n",
    "# Make predictions\n",
    "class_label_predictions = final_model.predict(X_test)\n",
    "\n",
    "# Evaluate on test data\n",
    "acc_score = accuracy_score(y_test, class_label_predictions)\n",
    "print('Test accuracy score:', acc_score)"
   ]
  },
  {
   "cell_type": "code",
   "execution_count": null,
   "metadata": {},
   "outputs": [],
   "source": []
  }
 ],
 "metadata": {
  "kernelspec": {
   "display_name": "Python 3 (ipykernel)",
   "language": "python",
   "name": "python3"
  },
  "language_info": {
   "codemirror_mode": {
    "name": "ipython",
    "version": 3
   },
   "file_extension": ".py",
   "mimetype": "text/x-python",
   "name": "python",
   "nbconvert_exporter": "python",
   "pygments_lexer": "ipython3",
   "version": "3.9.19"
  },
  "toc": {
   "base_numbering": 1,
   "nav_menu": {},
   "number_sections": false,
   "sideBar": true,
   "skip_h1_title": false,
   "title_cell": "Table of Contents",
   "title_sidebar": "Contents",
   "toc_cell": false,
   "toc_position": {},
   "toc_section_display": true,
   "toc_window_display": false
  },
  "varInspector": {
   "cols": {
    "lenName": 16,
    "lenType": 16,
    "lenVar": 40
   },
   "kernels_config": {
    "python": {
     "delete_cmd_postfix": "",
     "delete_cmd_prefix": "del ",
     "library": "var_list.py",
     "varRefreshCmd": "print(var_dic_list())"
    },
    "r": {
     "delete_cmd_postfix": ") ",
     "delete_cmd_prefix": "rm(",
     "library": "var_list.r",
     "varRefreshCmd": "cat(var_dic_list()) "
    }
   },
   "types_to_exclude": [
    "module",
    "function",
    "builtin_function_or_method",
    "instance",
    "_Feature"
   ],
   "window_display": false
  }
 },
 "nbformat": 4,
 "nbformat_minor": 4
}
